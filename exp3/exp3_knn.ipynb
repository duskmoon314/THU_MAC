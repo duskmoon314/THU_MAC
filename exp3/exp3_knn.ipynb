{
 "cells": [
  {
   "cell_type": "code",
   "execution_count": 1,
   "metadata": {},
   "outputs": [],
   "source": [
    "from __future__ import print_function, division\n",
    "\n",
    "import torch\n",
    "import torch.nn as nn\n",
    "import torch.optim as optim\n",
    "from torch.optim import lr_scheduler\n",
    "import numpy as np\n",
    "import torchvision\n",
    "from torchvision import datasets, models, transforms\n",
    "import matplotlib.pyplot as plt\n",
    "import time\n",
    "import os\n",
    "import copy\n",
    "import json\n",
    "from PIL import Image\n",
    "\n",
    "device = torch.device(\"cuda:0\" if torch.cuda.is_available() else \"cpu\")"
   ]
  },
  {
   "cell_type": "code",
   "execution_count": 4,
   "metadata": {},
   "outputs": [],
   "source": [
    "data_transform = transforms.Compose([\n",
    "        transforms.Resize((299, 299)),\n",
    "        transforms.ToTensor(),\n",
    "        transforms.Normalize([0.485, 0.456, 0.406], [0.229, 0.224, 0.225])\n",
    "    ])\n",
    "\n",
    "data_dir = '../image_exp/Classification/DataFewShot/Train'\n",
    "image_dataset =datasets.ImageFolder(data_dir,data_transform)\n",
    "\n",
    "train_loader = torch.utils.data.DataLoader(image_dataset, batch_size=11, shuffle=True, num_workers=8)\n",
    "class_names = image_dataset.classes\n",
    "dataset_sizes = len(image_dataset)\n",
    "\n",
    "# put validation datasets in the directory\n",
    "val_dir = '../image_exp/Classification/DataFewShot/Val'\n",
    "val_datasets = datasets.ImageFolder(val_dir,data_transform)\n",
    "val_loader = torch.utils.data.DataLoader(val_datasets, batch_size=11, shuffle=True, num_workers=8)\n",
    "val_names = val_datasets.classes\n",
    "val_sizes = len(val_datasets)"
   ]
  },
  {
   "cell_type": "code",
   "execution_count": 5,
   "metadata": {},
   "outputs": [],
   "source": [
    "class KNN(object):\n",
    "    def __init__(self):\n",
    "        pass\n",
    "\n",
    "    def fit(self, train_imgs, labels):\n",
    "        self.train_imgs = train_imgs.numpy()\n",
    "        self.labels = labels.numpy()\n",
    "\n",
    "    def predict(self, test_dataset):\n",
    "        dis = self.compute_distances(test_dataset)\n",
    "        return self.predict_labels(dis)\n",
    "\n",
    "    def compute_distances(self, test_dataset):\n",
    "        num_test = test_dataset.shape[0]\n",
    "        num_train = self.train_imgs.shape[0]\n",
    "        test_dataset = test_dataset.numpy()\n",
    "        test_dataset = test_dataset.reshape(num_test, -1)\n",
    "        dist = np.zeros((num_test, num_train))\n",
    "        for i in range(num_test):\n",
    "            for j in range(num_train):\n",
    "                dist[i][j]=np.sum((self.train_imgs[j]-test_dataset[i])**2)\n",
    "        return dist\n",
    "\n",
    "    def predict_labels(self, dist, k=1):\n",
    "        num_test = dist.shape[0]\n",
    "        y_pred = np.zeros(num_test, dtype=int)\n",
    "        for i in range(num_test):\n",
    "            pred_x = np.argsort(dist[i])[:k]\n",
    "            pred_y = [self.labels[val] for val in pred_x]\n",
    "            y_pred[i] = pred_y[0]\n",
    "        return y_pred\n"
   ]
  },
  {
   "cell_type": "code",
   "execution_count": 8,
   "metadata": {},
   "outputs": [
    {
     "output_type": "stream",
     "name": "stdout",
     "text": "Acc: 0.22272727272727272\n"
    }
   ],
   "source": [
    "knn = KNN()\n",
    "for images, labels in train_loader:\n",
    "    images = images.view(11, -1)\n",
    "    knn.fit(images, labels)\n",
    "    correct = 0\n",
    "    for val_img, val_labels in val_loader:\n",
    "        y_pred = knn.predict(val_img)\n",
    "        for i in range(11):\n",
    "            if(y_pred[i]==val_labels.numpy()[i]):\n",
    "                correct=correct+1\n",
    "    print('Acc:', correct/val_sizes)"
   ]
  },
  {
   "cell_type": "code",
   "execution_count": null,
   "metadata": {},
   "outputs": [],
   "source": []
  }
 ],
 "metadata": {
  "language_info": {
   "codemirror_mode": {
    "name": "ipython",
    "version": 3
   },
   "file_extension": ".py",
   "mimetype": "text/x-python",
   "name": "python",
   "nbconvert_exporter": "python",
   "pygments_lexer": "ipython3",
   "version": "3.7.6-final"
  },
  "orig_nbformat": 2,
  "kernelspec": {
   "name": "python3",
   "display_name": "Python 3"
  }
 },
 "nbformat": 4,
 "nbformat_minor": 2
}
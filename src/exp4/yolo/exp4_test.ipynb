{
 "cells": [
  {
   "cell_type": "code",
   "execution_count": 1,
   "metadata": {},
   "outputs": [],
   "source": [
    "from PIL import Image\n",
    "import cv2\n",
    "import json\n",
    "import os"
   ]
  },
  {
   "cell_type": "code",
   "execution_count": 2,
   "metadata": {},
   "outputs": [],
   "source": [
    "file = open('Detection/train_annotations.json')\n",
    "data = json.load(file)\n",
    "types = data['types']\n",
    "imgdict={}"
   ]
  },
  {
   "cell_type": "code",
   "execution_count": 3,
   "metadata": {},
   "outputs": [],
   "source": [
    "PATH = './Detection/test/images'\n",
    "img_list = os.listdir(PATH)"
   ]
  },
  {
   "cell_type": "code",
   "execution_count": 7,
   "metadata": {},
   "outputs": [],
   "source": [
    "f = open('output/10056.txt')\n",
    "out = f.readlines()"
   ]
  },
  {
   "cell_type": "code",
   "execution_count": 4,
   "metadata": {},
   "outputs": [],
   "source": [
    "TESTPATH = './output'\n",
    "for img in img_list:\n",
    "    id = int(img.split('.')[0])\n",
    "    try:\n",
    "        f = open(TESTPATH+'/'+str(id)+'.txt')\n",
    "        objects = []\n",
    "        lines = f.readlines()\n",
    "        for line in lines:\n",
    "            d = line.strip().split(' ')\n",
    "            label = types[int(d[0])]\n",
    "            score = float(d[1])\n",
    "            centerx = float(d[2])*2048\n",
    "            centery = float(d[3])*2048\n",
    "            width = float(d[4])*2048\n",
    "            height = float(d[5])*2048\n",
    "            xmin = centerx - width/2\n",
    "            xmax = centerx + width/2\n",
    "            ymin = centery - height/2\n",
    "            ymax = centery + height/2\n",
    "            objects.append({\n",
    "            'bbox':{'xmax':xmax,'xmin':xmin,'ymax':ymax,'ymin':ymin},\n",
    "            'category':label,\n",
    "            'score':score\n",
    "            })\n",
    "        imgdict[id] = {'objects':objects} \n",
    "    except:\n",
    "        imgdict[id] = {'objects':[]} "
   ]
  },
  {
   "cell_type": "code",
   "execution_count": 6,
   "metadata": {},
   "outputs": [],
   "source": [
    "out = {'imgs':imgdict,'types':types}"
   ]
  },
  {
   "cell_type": "code",
   "execution_count": 9,
   "metadata": {},
   "outputs": [],
   "source": [
    "json.dump(out,open('exp4_test.json','w'))"
   ]
  }
 ],
 "metadata": {
  "kernelspec": {
   "display_name": "Python 3",
   "language": "python",
   "name": "python3"
  },
  "language_info": {
   "codemirror_mode": {
    "name": "ipython",
    "version": 3
   },
   "file_extension": ".py",
   "mimetype": "text/x-python",
   "name": "python",
   "nbconvert_exporter": "python",
   "pygments_lexer": "ipython3",
   "version": "3.7.4"
  }
 },
 "nbformat": 4,
 "nbformat_minor": 4
}

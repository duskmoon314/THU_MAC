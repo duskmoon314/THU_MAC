{
 "cells": [
  {
   "cell_type": "code",
   "execution_count": null,
   "metadata": {},
   "outputs": [],
   "source": [
    "from __future__ import print_function, division\n",
    "\n",
    "import torch\n",
    "import torch.nn as nn\n",
    "import torch.optim as optim\n",
    "from torch.optim import lr_scheduler\n",
    "import numpy as np\n",
    "import torchvision\n",
    "from torchvision import datasets, models, transforms\n",
    "import matplotlib.pyplot as plt\n",
    "import time\n",
    "import os\n",
    "import copy\n",
    "import json\n",
    "from PIL import Image\n",
    "\n",
    "device = torch.device(\"cuda:0\" if torch.cuda.is_available() else \"cpu\")"
   ]
  },
  {
   "cell_type": "code",
   "execution_count": null,
   "metadata": {},
   "outputs": [],
   "source": [
    "data_transform = transforms.Compose([\n",
    "        transforms.Resize(224),\n",
    "        transforms.CenterCrop(224),\n",
    "        transforms.RandomHorizontalFlip(),\n",
    "        transforms.ToTensor(),\n",
    "        transforms.Normalize([0.485, 0.456, 0.406], [0.229, 0.224, 0.225])\n",
    "    ])\n",
    "\n",
    "data_dir = 'image_exp/Classification/DataFewShot/Train'\n",
    "image_dataset =datasets.ImageFolder(data_dir,data_transform)\n",
    "\n",
    "train_loader = torch.utils.data.DataLoader(image_dataset, batch_size=11, shuffle=True, num_workers=8)\n",
    "class_names = image_dataset.classes\n",
    "dataset_sizes = len(image_dataset)"
   ]
  },
  {
   "cell_type": "code",
   "execution_count": null,
   "metadata": {},
   "outputs": [],
   "source": [
    "print(dataset_sizes)\n",
    "for images, labels in train_loader:\n",
    "    print(type(images),type(labels))\n",
    "    print(images.size(),labels.size())\n",
    "    print(labels)\n",
    "    print(class_names)\n",
    "    print(images[0])\n",
    "    print('==================')\n",
    "    images = images.view(11, -1)\n",
    "    print(images)\n",
    "    print(np.sum(images.numpy(), axis=1))"
   ]
  },
  {
   "cell_type": "code",
   "execution_count": null,
   "metadata": {},
   "outputs": [],
   "source": [
    "def imshow(inp, title=None):\n",
    "    \"\"\"Imshow for Tensor.\"\"\"\n",
    "    inp = inp.numpy().transpose((1, 2, 0))\n",
    "    mean = np.array([0.485, 0.456, 0.406])\n",
    "    std = np.array([0.229, 0.224, 0.225])\n",
    "    inp = std * inp + mean\n",
    "    inp = np.clip(inp, 0, 1)\n",
    "    plt.imshow(inp)\n",
    "    if title is not None:\n",
    "        plt.title(title)\n",
    "    plt.pause(0.001)  # pause a bit so that plots are updated\n",
    "\n",
    "\n",
    "# Get a batch of training data\n",
    "inputs, classes = next(iter(train_loader))\n",
    "\n",
    "# Make a grid from batch\n",
    "out = torchvision.utils.make_grid(inputs)\n",
    "\n",
    "imshow(out)"
   ]
  },
  {
   "cell_type": "code",
   "execution_count": null,
   "metadata": {},
   "outputs": [],
   "source": [
    "class KNN(object):\n",
    "    def __init__(self):\n",
    "        pass\n",
    "\n",
    "    def fit(self, train_imgs, labels):\n",
    "        self.train_imgs = train_imgs.numpy()\n",
    "        self.labels = labels.numpy()\n",
    "\n",
    "    def predict(self, test_dataset):\n",
    "        dis = self.compute_distances(test_dataset)\n",
    "        return self.predict_labels(dis)\n",
    "\n",
    "    def compute_distances(self, test_dataset):\n",
    "        num_test = test_dataset.shape[0]\n",
    "        num_train = self.train_imgs.shape[0]\n",
    "        test_dataset = test_dataset.numpy()\n",
    "        test_dataset = test_dataset.reshape(num_test, -1)\n",
    "        #x2 = np.sum(test_dataset**2, axis=1).reshape((num_test, 1))\n",
    "        #y2 = np.sum(self.train_imgs**2, axis=1).reshape((1, num_train))\n",
    "        #xy = -2 * np.matmul(test_dataset, self.train_imgs.T)\n",
    "        #dist = np.sqrt(x2 + xy + y2)\n",
    "        dist = np.zeros((num_test, num_train))\n",
    "        for i in range(num_test):\n",
    "            for j in range(num_train):\n",
    "                dist[i][j]=np.sum((self.train_imgs[j]-test_dataset[i])**2)\n",
    "        return dist\n",
    "\n",
    "    def predict_labels(self, dist, k=1):\n",
    "        num_test = dist.shape[0]\n",
    "        y_pred = np.zeros(num_test, dtype=int)\n",
    "        for i in range(num_test):\n",
    "            pred_x = np.argsort(dist[i])[:k]\n",
    "            pred_y = [self.labels[val] for val in pred_x]\n",
    "            y_pred[i] = pred_y[0]\n",
    "        return y_pred\n"
   ]
  },
  {
   "cell_type": "code",
   "execution_count": 59,
   "metadata": {},
   "outputs": [
    {
     "output_type": "stream",
     "name": "stdout",
     "text": "tensor([ 7,  9, 10,  1,  4,  2,  6,  3,  0,  5,  8])\n[ 7  9 10  1  4  2  6  3  0  5  8]\n"
    }
   ],
   "source": [
    "knn = KNN()\n",
    "for images, labels in train_loader:\n",
    "    images = images.view(11, -1)\n",
    "    print(labels)\n",
    "    knn.fit(images, labels)\n",
    "    y_pred = knn.predict(images)\n",
    "    print(y_pred)"
   ]
  },
  {
   "cell_type": "code",
   "execution_count": null,
   "metadata": {},
   "outputs": [],
   "source": []
  }
 ],
 "metadata": {
  "language_info": {
   "codemirror_mode": {
    "name": "ipython",
    "version": 3
   },
   "file_extension": ".py",
   "mimetype": "text/x-python",
   "name": "python",
   "nbconvert_exporter": "python",
   "pygments_lexer": "ipython3",
   "version": "3.7.6-final"
  },
  "orig_nbformat": 2,
  "kernelspec": {
   "name": "python3",
   "display_name": "Python 3"
  }
 },
 "nbformat": 4,
 "nbformat_minor": 2
}